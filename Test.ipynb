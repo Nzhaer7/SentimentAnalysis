{
 "cells": [
  {
   "cell_type": "markdown",
   "id": "5d635857",
   "metadata": {},
   "source": [
    "# Kütüphaneleri yükleme"
   ]
  },
  {
   "cell_type": "code",
   "execution_count": 1,
   "id": "9b8559ef",
   "metadata": {},
   "outputs": [],
   "source": [
    "import pickle"
   ]
  },
  {
   "cell_type": "markdown",
   "id": "b5eb8638",
   "metadata": {},
   "source": [
    "# Eğitilmiş modelimizi ve CountVectorizer'i yükleme"
   ]
  },
  {
   "cell_type": "code",
   "execution_count": 2,
   "id": "b0568678",
   "metadata": {},
   "outputs": [],
   "source": [
    "model=pickle.load(open(\"tsf.pkl\",\"rb\"))\n",
    "cv=pickle.load(open(\"vectorizer.pkl\",\"rb\"))"
   ]
  },
  {
   "cell_type": "markdown",
   "id": "e019cbf6",
   "metadata": {},
   "source": [
    "# Irkçı test senaryosu"
   ]
  },
  {
   "cell_type": "code",
   "execution_count": 3,
   "id": "d3f7bc9b",
   "metadata": {},
   "outputs": [],
   "source": [
    "msg=\"Herkesi ülkeye doldurup ülkenin hem demografik yapısını değiştirmekte hem de din'i ve sosyal yapısını yeniden dizayn etmeye çalışmakta ve şunu iyi anlamalıyız ki bu emel gerçekleştiğinde modern TÜRKİYE Cumhuriyeti'nden geriye çok birşey\"\n",
    "data=[msg]\n",
    "vect=cv.transform(data).toarray()\n",
    "result=model.predict(vect)"
   ]
  },
  {
   "cell_type": "code",
   "execution_count": 4,
   "id": "3cda458a",
   "metadata": {},
   "outputs": [
    {
     "name": "stdout",
     "output_type": "stream",
     "text": [
      "[1.]\n"
     ]
    }
   ],
   "source": [
    "print(result)"
   ]
  },
  {
   "cell_type": "markdown",
   "id": "142cae77",
   "metadata": {},
   "source": [
    "# Normal test senaryosu"
   ]
  },
  {
   "cell_type": "code",
   "execution_count": 5,
   "id": "423ee659",
   "metadata": {},
   "outputs": [],
   "source": [
    "msg=\"Merhaba, bugün hava çok güzel\"\n",
    "data=[msg]\n",
    "vect=cv.transform(data).toarray()\n",
    "result=model.predict(vect)"
   ]
  },
  {
   "cell_type": "code",
   "execution_count": 6,
   "id": "cb4ad1c0",
   "metadata": {},
   "outputs": [
    {
     "name": "stdout",
     "output_type": "stream",
     "text": [
      "[0.]\n"
     ]
    }
   ],
   "source": [
    "print(result)"
   ]
  },
  {
   "cell_type": "code",
   "execution_count": null,
   "id": "54d104b4",
   "metadata": {},
   "outputs": [],
   "source": []
  }
 ],
 "metadata": {
  "kernelspec": {
   "display_name": "Python 3 (ipykernel)",
   "language": "python",
   "name": "python3"
  },
  "language_info": {
   "codemirror_mode": {
    "name": "ipython",
    "version": 3
   },
   "file_extension": ".py",
   "mimetype": "text/x-python",
   "name": "python",
   "nbconvert_exporter": "python",
   "pygments_lexer": "ipython3",
   "version": "3.11.3"
  }
 },
 "nbformat": 4,
 "nbformat_minor": 5
}

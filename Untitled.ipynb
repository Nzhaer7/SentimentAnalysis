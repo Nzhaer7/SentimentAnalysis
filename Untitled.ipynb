{
 "cells": [
  {
   "cell_type": "markdown",
   "id": "b1a966bf",
   "metadata": {},
   "source": [
    "# Kütüphaneleri ekleme"
   ]
  },
  {
   "cell_type": "code",
   "execution_count": 30,
   "id": "45bb56b2",
   "metadata": {},
   "outputs": [],
   "source": [
    "import pandas as pd\n",
    "import numpy as np\n",
    "import string\n",
    "from sklearn import metrics"
   ]
  },
  {
   "cell_type": "markdown",
   "id": "d91b3f94",
   "metadata": {},
   "source": [
    "# Verisetini okuma ve inceleme"
   ]
  },
  {
   "cell_type": "code",
   "execution_count": 2,
   "id": "e42bd9a5",
   "metadata": {},
   "outputs": [],
   "source": [
    "data=pd.read_excel('combined-csv-files.xlsx')"
   ]
  },
  {
   "cell_type": "code",
   "execution_count": 3,
   "id": "8cd91fd8",
   "metadata": {},
   "outputs": [
    {
     "data": {
      "text/plain": [
       "Index(['label', 'tweet'], dtype='object')"
      ]
     },
     "execution_count": 3,
     "metadata": {},
     "output_type": "execute_result"
    }
   ],
   "source": [
    "data.columns"
   ]
  },
  {
   "cell_type": "code",
   "execution_count": 4,
   "id": "30a9f441",
   "metadata": {},
   "outputs": [
    {
     "data": {
      "text/html": [
       "<div>\n",
       "<style scoped>\n",
       "    .dataframe tbody tr th:only-of-type {\n",
       "        vertical-align: middle;\n",
       "    }\n",
       "\n",
       "    .dataframe tbody tr th {\n",
       "        vertical-align: top;\n",
       "    }\n",
       "\n",
       "    .dataframe thead th {\n",
       "        text-align: right;\n",
       "    }\n",
       "</style>\n",
       "<table border=\"1\" class=\"dataframe\">\n",
       "  <thead>\n",
       "    <tr style=\"text-align: right;\">\n",
       "      <th></th>\n",
       "      <th>label</th>\n",
       "      <th>tweet</th>\n",
       "    </tr>\n",
       "  </thead>\n",
       "  <tbody>\n",
       "    <tr>\n",
       "      <th>0</th>\n",
       "      <td>normal</td>\n",
       "      <td>dunya saglik orgutu who coronavirus ile mucade...</td>\n",
       "    </tr>\n",
       "    <tr>\n",
       "      <th>1</th>\n",
       "      <td>normal</td>\n",
       "      <td>biliyor musunuz artik ios live fotograflariniz...</td>\n",
       "    </tr>\n",
       "    <tr>\n",
       "      <th>2</th>\n",
       "      <td>normal</td>\n",
       "      <td>gunluk konusmalarin guvenligini saglamak ve in...</td>\n",
       "    </tr>\n",
       "    <tr>\n",
       "      <th>3</th>\n",
       "      <td>normal</td>\n",
       "      <td>8 mart pazar kadinlargunu bugun size ilham ver...</td>\n",
       "    </tr>\n",
       "    <tr>\n",
       "      <th>4</th>\n",
       "      <td>normal</td>\n",
       "      <td>sevgi dolu bir gun gecirmeniz dilegiyle sevgil...</td>\n",
       "    </tr>\n",
       "  </tbody>\n",
       "</table>\n",
       "</div>"
      ],
      "text/plain": [
       "    label                                              tweet\n",
       "0  normal  dunya saglik orgutu who coronavirus ile mucade...\n",
       "1  normal  biliyor musunuz artik ios live fotograflariniz...\n",
       "2  normal  gunluk konusmalarin guvenligini saglamak ve in...\n",
       "3  normal  8 mart pazar kadinlargunu bugun size ilham ver...\n",
       "4  normal  sevgi dolu bir gun gecirmeniz dilegiyle sevgil..."
      ]
     },
     "execution_count": 4,
     "metadata": {},
     "output_type": "execute_result"
    }
   ],
   "source": [
    "data.head()"
   ]
  },
  {
   "cell_type": "markdown",
   "id": "7e91df52",
   "metadata": {},
   "source": [
    "# Verisetindeki metinleri sayısal verilere dönüştürme ve ırkçı etiketini 1, normal etiketini 0 olarak yeniden etiketleme "
   ]
  },
  {
   "cell_type": "code",
   "execution_count": 5,
   "id": "e93ddcb2",
   "metadata": {},
   "outputs": [],
   "source": [
    "from sklearn.feature_extraction.text import CountVectorizer"
   ]
  },
  {
   "cell_type": "code",
   "execution_count": 6,
   "id": "91492135",
   "metadata": {},
   "outputs": [],
   "source": [
    "cv=CountVectorizer()"
   ]
  },
  {
   "cell_type": "code",
   "execution_count": 7,
   "id": "a4b0ec16",
   "metadata": {},
   "outputs": [],
   "source": [
    "data['label']=data['label'].map({'normal':0, 'irkci':1})"
   ]
  },
  {
   "cell_type": "code",
   "execution_count": 8,
   "id": "66946208",
   "metadata": {},
   "outputs": [
    {
     "data": {
      "text/html": [
       "<div>\n",
       "<style scoped>\n",
       "    .dataframe tbody tr th:only-of-type {\n",
       "        vertical-align: middle;\n",
       "    }\n",
       "\n",
       "    .dataframe tbody tr th {\n",
       "        vertical-align: top;\n",
       "    }\n",
       "\n",
       "    .dataframe thead th {\n",
       "        text-align: right;\n",
       "    }\n",
       "</style>\n",
       "<table border=\"1\" class=\"dataframe\">\n",
       "  <thead>\n",
       "    <tr style=\"text-align: right;\">\n",
       "      <th></th>\n",
       "      <th>label</th>\n",
       "      <th>tweet</th>\n",
       "    </tr>\n",
       "  </thead>\n",
       "  <tbody>\n",
       "    <tr>\n",
       "      <th>0</th>\n",
       "      <td>0.0</td>\n",
       "      <td>dunya saglik orgutu who coronavirus ile mucade...</td>\n",
       "    </tr>\n",
       "    <tr>\n",
       "      <th>1</th>\n",
       "      <td>0.0</td>\n",
       "      <td>biliyor musunuz artik ios live fotograflariniz...</td>\n",
       "    </tr>\n",
       "    <tr>\n",
       "      <th>2</th>\n",
       "      <td>0.0</td>\n",
       "      <td>gunluk konusmalarin guvenligini saglamak ve in...</td>\n",
       "    </tr>\n",
       "    <tr>\n",
       "      <th>3</th>\n",
       "      <td>0.0</td>\n",
       "      <td>8 mart pazar kadinlargunu bugun size ilham ver...</td>\n",
       "    </tr>\n",
       "    <tr>\n",
       "      <th>4</th>\n",
       "      <td>0.0</td>\n",
       "      <td>sevgi dolu bir gun gecirmeniz dilegiyle sevgil...</td>\n",
       "    </tr>\n",
       "  </tbody>\n",
       "</table>\n",
       "</div>"
      ],
      "text/plain": [
       "   label                                              tweet\n",
       "0    0.0  dunya saglik orgutu who coronavirus ile mucade...\n",
       "1    0.0  biliyor musunuz artik ios live fotograflariniz...\n",
       "2    0.0  gunluk konusmalarin guvenligini saglamak ve in...\n",
       "3    0.0  8 mart pazar kadinlargunu bugun size ilham ver...\n",
       "4    0.0  sevgi dolu bir gun gecirmeniz dilegiyle sevgil..."
      ]
     },
     "execution_count": 8,
     "metadata": {},
     "output_type": "execute_result"
    }
   ],
   "source": [
    "data.head()"
   ]
  },
  {
   "cell_type": "code",
   "execution_count": 9,
   "id": "432f927d",
   "metadata": {},
   "outputs": [],
   "source": [
    "data = data.fillna(0)"
   ]
  },
  {
   "cell_type": "markdown",
   "id": "d439a17f",
   "metadata": {},
   "source": [
    "# Tweet ve label sütunlarını x ve y adında değişkenlere key, value mantığında atama. X key yani içerik, y de value yani içeriğe karşılık gelen sınıf değeri"
   ]
  },
  {
   "cell_type": "code",
   "execution_count": 10,
   "id": "a8128d8a",
   "metadata": {},
   "outputs": [],
   "source": [
    "x=data['tweet']\n",
    "y=data['label']"
   ]
  },
  {
   "cell_type": "markdown",
   "id": "ad891013",
   "metadata": {},
   "source": [
    "# X ve y deki inf, NaN tanımsız değerleri, gereksiz sütunları kaldırma, x verisini CountVectorizer kullanarak metin verisini eğitim için sayısal veriye çevirip verisetini eğitim için son haline getirme"
   ]
  },
  {
   "cell_type": "code",
   "execution_count": 11,
   "id": "3ae067d3",
   "metadata": {},
   "outputs": [],
   "source": [
    "x.replace([np.inf, -np.inf], np.nan, inplace=True)"
   ]
  },
  {
   "cell_type": "code",
   "execution_count": 12,
   "id": "fd87dc2f",
   "metadata": {},
   "outputs": [],
   "source": [
    "x = x.replace([np.inf, -np.inf], np.nan)\n",
    "x = x.dropna()\n",
    "x = x.reset_index()"
   ]
  },
  {
   "cell_type": "code",
   "execution_count": 13,
   "id": "64bd07d7",
   "metadata": {},
   "outputs": [],
   "source": [
    "x.drop(['index'], axis=1, inplace=True)"
   ]
  },
  {
   "cell_type": "code",
   "execution_count": 22,
   "id": "177343b3",
   "metadata": {
    "scrolled": false
   },
   "outputs": [],
   "source": [
    "y = y.replace([np.inf, -np.inf], np.nan)\n",
    "y = y.dropna()\n",
    "y = y.reset_index()"
   ]
  },
  {
   "cell_type": "code",
   "execution_count": 23,
   "id": "7129c246",
   "metadata": {},
   "outputs": [
    {
     "data": {
      "text/html": [
       "<div>\n",
       "<style scoped>\n",
       "    .dataframe tbody tr th:only-of-type {\n",
       "        vertical-align: middle;\n",
       "    }\n",
       "\n",
       "    .dataframe tbody tr th {\n",
       "        vertical-align: top;\n",
       "    }\n",
       "\n",
       "    .dataframe thead th {\n",
       "        text-align: right;\n",
       "    }\n",
       "</style>\n",
       "<table border=\"1\" class=\"dataframe\">\n",
       "  <thead>\n",
       "    <tr style=\"text-align: right;\">\n",
       "      <th></th>\n",
       "      <th>index</th>\n",
       "      <th>label</th>\n",
       "    </tr>\n",
       "  </thead>\n",
       "  <tbody>\n",
       "    <tr>\n",
       "      <th>0</th>\n",
       "      <td>0</td>\n",
       "      <td>0.0</td>\n",
       "    </tr>\n",
       "    <tr>\n",
       "      <th>1</th>\n",
       "      <td>1</td>\n",
       "      <td>0.0</td>\n",
       "    </tr>\n",
       "    <tr>\n",
       "      <th>2</th>\n",
       "      <td>2</td>\n",
       "      <td>0.0</td>\n",
       "    </tr>\n",
       "    <tr>\n",
       "      <th>3</th>\n",
       "      <td>3</td>\n",
       "      <td>0.0</td>\n",
       "    </tr>\n",
       "    <tr>\n",
       "      <th>4</th>\n",
       "      <td>4</td>\n",
       "      <td>0.0</td>\n",
       "    </tr>\n",
       "    <tr>\n",
       "      <th>...</th>\n",
       "      <td>...</td>\n",
       "      <td>...</td>\n",
       "    </tr>\n",
       "    <tr>\n",
       "      <th>317</th>\n",
       "      <td>317</td>\n",
       "      <td>1.0</td>\n",
       "    </tr>\n",
       "    <tr>\n",
       "      <th>318</th>\n",
       "      <td>318</td>\n",
       "      <td>1.0</td>\n",
       "    </tr>\n",
       "    <tr>\n",
       "      <th>319</th>\n",
       "      <td>319</td>\n",
       "      <td>1.0</td>\n",
       "    </tr>\n",
       "    <tr>\n",
       "      <th>320</th>\n",
       "      <td>320</td>\n",
       "      <td>1.0</td>\n",
       "    </tr>\n",
       "    <tr>\n",
       "      <th>321</th>\n",
       "      <td>321</td>\n",
       "      <td>0.0</td>\n",
       "    </tr>\n",
       "  </tbody>\n",
       "</table>\n",
       "<p>322 rows × 2 columns</p>\n",
       "</div>"
      ],
      "text/plain": [
       "     index  label\n",
       "0        0    0.0\n",
       "1        1    0.0\n",
       "2        2    0.0\n",
       "3        3    0.0\n",
       "4        4    0.0\n",
       "..     ...    ...\n",
       "317    317    1.0\n",
       "318    318    1.0\n",
       "319    319    1.0\n",
       "320    320    1.0\n",
       "321    321    0.0\n",
       "\n",
       "[322 rows x 2 columns]"
      ]
     },
     "execution_count": 23,
     "metadata": {},
     "output_type": "execute_result"
    }
   ],
   "source": [
    "y"
   ]
  },
  {
   "cell_type": "code",
   "execution_count": 14,
   "id": "6ef11577",
   "metadata": {},
   "outputs": [],
   "source": [
    "x = cv.fit_transform(data['tweet'].apply(lambda x: np.str_(x)))"
   ]
  },
  {
   "cell_type": "code",
   "execution_count": 15,
   "id": "9f65906a",
   "metadata": {},
   "outputs": [
    {
     "data": {
      "text/plain": [
       "<322x2306 sparse matrix of type '<class 'numpy.int64'>'\n",
       "\twith 5434 stored elements in Compressed Sparse Row format>"
      ]
     },
     "execution_count": 15,
     "metadata": {},
     "output_type": "execute_result"
    }
   ],
   "source": [
    "x"
   ]
  },
  {
   "cell_type": "markdown",
   "id": "0554ded2",
   "metadata": {},
   "source": [
    "# Verisetini train ve test olmak üzere iki kısma ayırma. Verisetinin %80 lik kısmı train, %20 lik kısmını test olarak ayırma"
   ]
  },
  {
   "cell_type": "code",
   "execution_count": 16,
   "id": "0e7a20c4",
   "metadata": {},
   "outputs": [],
   "source": [
    "from sklearn.model_selection import train_test_split"
   ]
  },
  {
   "cell_type": "code",
   "execution_count": 18,
   "id": "65db26b6",
   "metadata": {},
   "outputs": [],
   "source": [
    "x_train, x_test, y_train, y_test=train_test_split(x, y, test_size=0.2)"
   ]
  },
  {
   "cell_type": "markdown",
   "id": "9bdef794",
   "metadata": {},
   "source": [
    "# Naive-Bayes algoritmasını yükleme ve veriseti üzerinde eğitme"
   ]
  },
  {
   "cell_type": "code",
   "execution_count": 19,
   "id": "0931f4f5",
   "metadata": {},
   "outputs": [],
   "source": [
    "from sklearn.naive_bayes import MultinomialNB"
   ]
  },
  {
   "cell_type": "code",
   "execution_count": 20,
   "id": "67adf2aa",
   "metadata": {},
   "outputs": [],
   "source": [
    "model=MultinomialNB()"
   ]
  },
  {
   "cell_type": "code",
   "execution_count": 24,
   "id": "2128cbf5",
   "metadata": {},
   "outputs": [
    {
     "data": {
      "text/plain": [
       "MultinomialNB()"
      ]
     },
     "execution_count": 24,
     "metadata": {},
     "output_type": "execute_result"
    }
   ],
   "source": [
    "model.fit(x_train, y_train)"
   ]
  },
  {
   "cell_type": "markdown",
   "id": "aa7d8762",
   "metadata": {},
   "source": [
    "# Doğruluk puanlarını inceleme ve confusion matrix oluşturma"
   ]
  },
  {
   "cell_type": "code",
   "execution_count": 25,
   "id": "be1fd4ae",
   "metadata": {},
   "outputs": [],
   "source": [
    "result=model.score(x_test, y_test)"
   ]
  },
  {
   "cell_type": "code",
   "execution_count": 26,
   "id": "9ffbb52b",
   "metadata": {},
   "outputs": [],
   "source": [
    "result=result*100"
   ]
  },
  {
   "cell_type": "code",
   "execution_count": 27,
   "id": "23de7521",
   "metadata": {
    "scrolled": true
   },
   "outputs": [
    {
     "data": {
      "text/plain": [
       "98.46153846153847"
      ]
     },
     "execution_count": 27,
     "metadata": {},
     "output_type": "execute_result"
    }
   ],
   "source": [
    "result"
   ]
  },
  {
   "cell_type": "code",
   "execution_count": 28,
   "id": "add10e0d",
   "metadata": {},
   "outputs": [],
   "source": [
    "from sklearn.metrics import confusion_matrix\n",
    "from sklearn.metrics import confusion_matrix, ConfusionMatrixDisplay\n",
    "import matplotlib.pyplot as plt\n",
    "predictions = model.predict(x_test)"
   ]
  },
  {
   "cell_type": "code",
   "execution_count": 29,
   "id": "32b8ecf9",
   "metadata": {},
   "outputs": [
    {
     "data": {
      "image/png": "[encoded data removed]",
      "text/plain": [
       "<Figure size 432x288 with 2 Axes>"
      ]
     },
     "metadata": {
      "needs_background": "light"
     },
     "output_type": "display_data"
    }
   ],
   "source": [
    "cm = confusion_matrix(y_test, predictions, labels=model.classes_)\n",
    "disp = ConfusionMatrixDisplay(confusion_matrix=cm,\n",
    "                              display_labels=model.classes_)\n",
    "disp.plot()\n",
    "plt.show()"
   ]
  },
  {
   "cell_type": "markdown",
   "id": "592b4946",
   "metadata": {},
   "source": [
    "# Pickle kütüphanesi kullanarak modeli ve CountVectorizer'i daha sonra kullanmak üzere kaydetme"
   ]
  },
  {
   "cell_type": "code",
   "execution_count": 45,
   "id": "5cc0af7e",
   "metadata": {},
   "outputs": [],
   "source": [
    "import pickle"
   ]
  },
  {
   "cell_type": "code",
   "execution_count": 46,
   "id": "4cc87e3c",
   "metadata": {},
   "outputs": [],
   "source": [
    "pickle.dump(model, open(\"tsf.pkl\",\"wb\"))"
   ]
  },
  {
   "cell_type": "code",
   "execution_count": 47,
   "id": "e793dc11",
   "metadata": {},
   "outputs": [],
   "source": [
    "pickle.dump(cv, open(\"vectorizer.pkl\",\"wb\"))"
   ]
  }
 ],
 "metadata": {
  "kernelspec": {
   "display_name": "Python 3 (ipykernel)",
   "language": "python",
   "name": "python3"
  },
  "language_info": {
   "codemirror_mode": {
    "name": "ipython",
    "version": 3
   },
   "file_extension": ".py",
   "mimetype": "text/x-python",
   "name": "python",
   "nbconvert_exporter": "python",
   "pygments_lexer": "ipython3",
   "version": "3.11.3"
  }
 },
 "nbformat": 4,
 "nbformat_minor": 5
}
